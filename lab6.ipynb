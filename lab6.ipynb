{
 "cells": [
  {
   "cell_type": "code",
   "execution_count": 7,
   "id": "7973f1ef-f798-40cf-89de-c4a83ae9ef69",
   "metadata": {},
   "outputs": [
    {
     "name": "stdin",
     "output_type": "stream",
     "text": [
      "Please enter your name nicky\n",
      "enter the score: 70\n",
      "enter y if there's still score/enter n if you finish entering y\n",
      "enter the score: 80\n",
      "enter y if there's still score/enter n if you finish entering y\n",
      "enter the score: 89\n",
      "enter y if there's still score/enter n if you finish entering n\n",
      "enter the GPA you want to achieve 95\n"
     ]
    },
    {
     "name": "stdout",
     "output_type": "stream",
     "text": [
      "Your average right now is  79.66666666666667\n",
      "You need to get  141.0  point on next exam to achieve your goal.\n"
     ]
    }
   ],
   "source": [
    "name = input(\"Please enter your name\")\n",
    "total = 0\n",
    "count = 0\n",
    "keep = True\n",
    "while(keep):\n",
    "    score = int(input(\"enter the score:\"))\n",
    "    total += score\n",
    "    count = count + 1\n",
    "    yn = input(\"enter y if there's still score/enter n if you finish entering\")\n",
    "    if(yn == \"y\"):\n",
    "        keep = True\n",
    "    else:\n",
    "        keep = False\n",
    "target = float(input(\"enter the GPA you want to achieve\"))\n",
    "average = float(total/count)\n",
    "point = target*(count+1)-total\n",
    "print(\"Your average right now is \", average)\n",
    "print(\"You need to get \", point, \" point on next exam to achieve your goal.\")"
   ]
  },
  {
   "cell_type": "code",
   "execution_count": null,
   "id": "585f685d-8937-4156-9ee3-59197716c8a2",
   "metadata": {},
   "outputs": [],
   "source": []
  }
 ],
 "metadata": {
  "kernelspec": {
   "display_name": "Python 3 (ipykernel)",
   "language": "python",
   "name": "python3"
  },
  "language_info": {
   "codemirror_mode": {
    "name": "ipython",
    "version": 3
   },
   "file_extension": ".py",
   "mimetype": "text/x-python",
   "name": "python",
   "nbconvert_exporter": "python",
   "pygments_lexer": "ipython3",
   "version": "3.12.4"
  }
 },
 "nbformat": 4,
 "nbformat_minor": 5
}
